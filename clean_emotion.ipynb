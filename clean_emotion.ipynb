{
  "cells": [
    {
      "cell_type": "code",
      "execution_count": 11,
      "metadata": {
        "id": "ebUIan1kWjuC"
      },
      "outputs": [],
      "source": [
        "import pandas as pd\n",
        "import warnings\n",
        "import re\n",
        "import matplotlib.pyplot as plt"
      ]
    },
    {
      "cell_type": "code",
      "execution_count": 12,
      "metadata": {
        "id": "cbpZout6E5rg"
      },
      "outputs": [],
      "source": [
        "df_emosi=pd.read_csv(r'src\\Twitter_Emotion_Dataset.csv')"
      ]
    },
    {
      "cell_type": "code",
      "execution_count": 13,
      "metadata": {
        "id": "-2R82OCCzTMQ"
      },
      "outputs": [],
      "source": [
        "df_pemilu=pd.read_csv(r'src\\pemilu-2024.csv', on_bad_lines='skip')"
      ]
    },
    {
      "cell_type": "markdown",
      "metadata": {
        "id": "baIkTC_gIQlP"
      },
      "source": [
        "### Missval Check"
      ]
    },
    {
      "cell_type": "code",
      "execution_count": 14,
      "metadata": {
        "colab": {
          "base_uri": "https://localhost:8080/"
        },
        "id": "GebdnPDcIU5x",
        "outputId": "9ec5fb91-0d22-4fe0-d953-a275b41ba2c7"
      },
      "outputs": [
        {
          "data": {
            "text/plain": [
              "label    0\n",
              "tweet    0\n",
              "dtype: int64"
            ]
          },
          "execution_count": 14,
          "metadata": {},
          "output_type": "execute_result"
        }
      ],
      "source": [
        "df_emosi.isna().sum()"
      ]
    },
    {
      "cell_type": "markdown",
      "metadata": {
        "id": "wfO2J75Z0Yjb"
      },
      "source": [
        "### Masking"
      ]
    },
    {
      "cell_type": "code",
      "execution_count": 15,
      "metadata": {
        "colab": {
          "base_uri": "https://localhost:8080/"
        },
        "id": "q7ICp5M80bpm",
        "outputId": "313d0723-cc80-42a5-be87-189ad474cb75"
      },
      "outputs": [
        {
          "name": "stdout",
          "output_type": "stream",
          "text": [
            "Total kata yang dimask dalam dataset: 1793\n"
          ]
        }
      ],
      "source": [
        "# Fungsi untuk menghitung kata yang dimask dalam sebuah teks\n",
        "def count_masked_words(text):\n",
        "    if isinstance(text, str):\n",
        "        pattern = r'\\[USERNAME\\]|\\[USER\\]'  # Pola regex untuk mencari [USERNAME] atau [USER]\n",
        "        matches = re.findall(pattern, text)\n",
        "        return len(matches)\n",
        "    else:\n",
        "        return 0  # Jika nilai tidak bertipe string, kembalikan 0\n",
        "\n",
        "# Menerapkan fungsi ke kolom teks dalam DataFrame\n",
        "df_emosi['masked_word_count'] = df_emosi['tweet'].apply(count_masked_words)\n",
        "\n",
        "# Jumlah kata yang dimask dalam keseluruhan dataset\n",
        "total_masked_words = df_emosi['masked_word_count'].sum()\n",
        "\n",
        "print(\"Total kata yang dimask dalam dataset:\", total_masked_words)"
      ]
    },
    {
      "cell_type": "code",
      "execution_count": 16,
      "metadata": {
        "id": "Wrfg6wLTJ_pA"
      },
      "outputs": [],
      "source": [
        "# Fungsi untuk menemukan dan menghitung pola yang diawali dengan tanda kurung siku dalam sebuah teks\n",
        "def find_and_count_patterns(text):\n",
        "    if isinstance(text, str):\n",
        "        pattern = r'\\[([^]]+)\\]'  # Pola regex untuk mencari semua pola yang diawali dengan tanda kurung siku\n",
        "        matches = re.findall(pattern, text)\n",
        "\n",
        "        # Menghitung jumlah kemunculan setiap pola\n",
        "        pattern_counts = {}\n",
        "        for match in matches:\n",
        "            if match in pattern_counts:\n",
        "                pattern_counts[match] += 1\n",
        "            else:\n",
        "                pattern_counts[match] = 1\n",
        "\n",
        "        return pattern_counts\n",
        "    else:\n",
        "        return {}  # Jika nilai tidak bertipe string, kembalikan dictionary kosong\n",
        "\n",
        "# Menerapkan fungsi ke kolom teks dalam DataFrame\n",
        "df_emosi['pattern_counts'] = df_emosi['tweet'].apply(find_and_count_patterns)\n",
        "\n",
        "# Menggabungkan hasil dari semua tweet menjadi satu dictionary\n",
        "all_patterns_counts = {}\n",
        "for pattern_count in df_emosi['pattern_counts']:\n",
        "    for pattern, count in pattern_count.items():\n",
        "        if pattern in all_patterns_counts:\n",
        "            all_patterns_counts[pattern] += count\n",
        "        else:\n",
        "            all_patterns_counts[pattern] = count"
      ]
    },
    {
      "cell_type": "code",
      "execution_count": 17,
      "metadata": {
        "colab": {
          "base_uri": "https://localhost:8080/"
        },
        "id": "KNNmLuI8KM34",
        "outputId": "ee0aeafe-e883-4cb5-aced-bda63ff1c63d"
      },
      "outputs": [
        {
          "name": "stdout",
          "output_type": "stream",
          "text": [
            "USERNAME 1793\n",
            "URL 621\n",
            "askmf 10\n",
            "SENSITIVE-NO 5\n",
            "askMF 4\n",
            "Idm 2\n",
            "AskMF 2\n",
            "C48 2\n",
            "idm 1\n",
            "Seo In Ha, Love Rain 1\n",
            "Askmf 1\n",
            "Late Post 1\n",
            "Allamah Thabathabai 1\n",
            "Kartu 1 pria thd wanita 1\n",
            "Habis buka Facebook 1\n",
            "Thinking.. 1\n",
            "BELAJARLAH DEMI ORANGTUAMU!!! 1\n",
            "BB 1\n",
            "Obrolan dengan dospem 1 & 2 di grup WA menjelang besok sidang 1\n",
            "Satu menit kemudian 1\n",
            "1 1\n"
          ]
        }
      ],
      "source": [
        "# Membuat barplot\n",
        "all_patterns_counts = sorted(all_patterns_counts.items(), key=lambda x:x[1], reverse=True)\n",
        "all_patterns_counts = dict(all_patterns_counts)\n",
        "for k, i in all_patterns_counts.items():\n",
        "  print(k, i)"
      ]
    },
    {
      "cell_type": "code",
      "execution_count": 18,
      "metadata": {
        "colab": {
          "base_uri": "https://localhost:8080/",
          "height": 206
        },
        "id": "kzPQlh4lwoPq",
        "outputId": "c2d9b3d9-bd41-4eb7-8312-d3c7f977c4d8"
      },
      "outputs": [
        {
          "data": {
            "text/html": [
              "<div>\n",
              "<style scoped>\n",
              "    .dataframe tbody tr th:only-of-type {\n",
              "        vertical-align: middle;\n",
              "    }\n",
              "\n",
              "    .dataframe tbody tr th {\n",
              "        vertical-align: top;\n",
              "    }\n",
              "\n",
              "    .dataframe thead th {\n",
              "        text-align: right;\n",
              "    }\n",
              "</style>\n",
              "<table border=\"1\" class=\"dataframe\">\n",
              "  <thead>\n",
              "    <tr style=\"text-align: right;\">\n",
              "      <th></th>\n",
              "      <th>label</th>\n",
              "      <th>tweet</th>\n",
              "      <th>masked_word_count</th>\n",
              "      <th>pattern_counts</th>\n",
              "    </tr>\n",
              "  </thead>\n",
              "  <tbody>\n",
              "    <tr>\n",
              "      <th>4396</th>\n",
              "      <td>love</td>\n",
              "      <td>Tahukah kamu, bahwa saat itu papa memejamkan m...</td>\n",
              "      <td>0</td>\n",
              "      <td>{}</td>\n",
              "    </tr>\n",
              "    <tr>\n",
              "      <th>4397</th>\n",
              "      <td>fear</td>\n",
              "      <td>Sulitnya menetapkan Calon Wapresnya Jokowi di ...</td>\n",
              "      <td>0</td>\n",
              "      <td>{}</td>\n",
              "    </tr>\n",
              "    <tr>\n",
              "      <th>4398</th>\n",
              "      <td>anger</td>\n",
              "      <td>5. masa depannya nggak jelas. lha iya, gimana ...</td>\n",
              "      <td>0</td>\n",
              "      <td>{}</td>\n",
              "    </tr>\n",
              "    <tr>\n",
              "      <th>4399</th>\n",
              "      <td>happy</td>\n",
              "      <td>[USERNAME] dulu beneran ada mahasiswa Teknik U...</td>\n",
              "      <td>1</td>\n",
              "      <td>{'USERNAME': 1}</td>\n",
              "    </tr>\n",
              "    <tr>\n",
              "      <th>4400</th>\n",
              "      <td>sadness</td>\n",
              "      <td>Ya Allah, hanya Engkau yang mengetahui rasa sa...</td>\n",
              "      <td>0</td>\n",
              "      <td>{}</td>\n",
              "    </tr>\n",
              "  </tbody>\n",
              "</table>\n",
              "</div>"
            ],
            "text/plain": [
              "        label                                              tweet  \\\n",
              "4396     love  Tahukah kamu, bahwa saat itu papa memejamkan m...   \n",
              "4397     fear  Sulitnya menetapkan Calon Wapresnya Jokowi di ...   \n",
              "4398    anger  5. masa depannya nggak jelas. lha iya, gimana ...   \n",
              "4399    happy  [USERNAME] dulu beneran ada mahasiswa Teknik U...   \n",
              "4400  sadness  Ya Allah, hanya Engkau yang mengetahui rasa sa...   \n",
              "\n",
              "      masked_word_count   pattern_counts  \n",
              "4396                  0               {}  \n",
              "4397                  0               {}  \n",
              "4398                  0               {}  \n",
              "4399                  1  {'USERNAME': 1}  \n",
              "4400                  0               {}  "
            ]
          },
          "execution_count": 18,
          "metadata": {},
          "output_type": "execute_result"
        }
      ],
      "source": [
        "df_emosi.tail()"
      ]
    },
    {
      "cell_type": "markdown",
      "metadata": {
        "id": "PDvF724DmrDi"
      },
      "source": [
        "### Slang dan Abreviasi"
      ]
    },
    {
      "cell_type": "code",
      "execution_count": 19,
      "metadata": {
        "id": "bJew3ZD2fsVP"
      },
      "outputs": [],
      "source": [
        "kamus_slang=pd.read_csv(r'src\\colloquial-indonesian-lexicon.csv')\n",
        "kamus_slang=kamus_slang.rename(columns = {'slang' : 'kamus_slang' , 'formal' : 'kamus_perbaikan'})\n",
        "\n",
        "# Rekonstruksi data sebagai 'dict'\n",
        "slang_mapping = dict(zip(kamus_slang['kamus_slang'], kamus_slang['kamus_perbaikan']))\n",
        "kamus_singkatan = pd.read_csv(r'src\\kamus_singkatan.csv', header=None, names=['sebelum_perbaikan', 'setelah_perbaikan'],delimiter=';')\n",
        "singkatan_mapping=dict(zip(kamus_singkatan['sebelum_perbaikan'],kamus_singkatan['setelah_perbaikan']))"
      ]
    },
    {
      "cell_type": "markdown",
      "metadata": {
        "id": "vkUcqaK5myg9"
      },
      "source": [
        "### Stopword, emoji, dan Stemmer Factory"
      ]
    },
    {
      "cell_type": "code",
      "execution_count": 22,
      "metadata": {
        "id": "9KdjU3vdiG8J"
      },
      "outputs": [],
      "source": [
        "from Sastrawi.Stemmer.StemmerFactory import StemmerFactory\n",
        "from Sastrawi.StopWordRemover.StopWordRemoverFactory import  StopWordRemoverFactory\n",
        "import emoji\n",
        "from spacy.lang.id import Indonesian\n",
        "import string"
      ]
    },
    {
      "cell_type": "code",
      "execution_count": 23,
      "metadata": {
        "id": "yMqvORsOh_bN"
      },
      "outputs": [],
      "source": [
        "stopword_factory = StopWordRemoverFactory()\n",
        "stopwords = stopword_factory.get_stop_words()\n",
        "# List of words with negation meaning\n",
        "emoji_data = emoji.EMOJI_DATA\n",
        "\n",
        "# Remove negation words from stopwords\n",
        "# stopwords = set(stopwords).difference(excluded_stopwords)\n",
        "nlp = Indonesian()\n",
        "factory = StemmerFactory()\n",
        "stemmer = factory.create_stemmer()"
      ]
    },
    {
      "cell_type": "code",
      "execution_count": 24,
      "metadata": {
        "id": "yHYIcUulqlkd"
      },
      "outputs": [],
      "source": [
        "def replace_emoji_with_ascii(text, emoji_data, language='id'):\n",
        "    for emoji, translations in emoji_data.items():\n",
        "        if language in translations:\n",
        "            text = text.replace(emoji, translations[language])\n",
        "    return text"
      ]
    },
    {
      "cell_type": "code",
      "execution_count": 25,
      "metadata": {
        "colab": {
          "base_uri": "https://localhost:8080/"
        },
        "id": "htCsjSPpxcbq",
        "outputId": "45abd325-3495-44de-d8df-f57272722bf5"
      },
      "outputs": [
        {
          "name": "stdout",
          "output_type": "stream",
          "text": [
            "Saat kamu merenungkan tentang kehilangan yang pernah kamu alami, lukarusluka itu terasa kembali dalam ingatan. patahmaskhati mekar #RememberingLoss\n"
          ]
        }
      ],
      "source": [
        "text_with_emoji = \"Saat kamu merenungkan tentang kehilangan yang pernah kamu alami, luka-luka itu terasa kembali dalam ingatan. 💔🌼 #RememberingLoss\"\n",
        "a = replace_emoji_with_ascii(text_with_emoji, emoji_data, language='id')\n",
        "a = a.replace(\":\",' ').replace('_','mask').replace('-','rus').strip()\n",
        "a = re.sub(' +', ' ', a)\n",
        "print(a)"
      ]
    },
    {
      "cell_type": "code",
      "execution_count": 26,
      "metadata": {
        "id": "A_fwSAIGlHjR"
      },
      "outputs": [],
      "source": [
        "def process_tweet(tweet) :\n",
        "  tweet=tweet.lower()\n",
        "  # link\n",
        "  tweet = re.sub('((www\\.[^\\s]+)|(https?://[^\\s]+))','',tweet)\n",
        "\n",
        "  # spesifik\n",
        "  tweet = re.sub(r'\\[username\\]|\\[url\\]|\\[askmf\\]|\\[sensitive-no\\]|\\[satu menit kemudian\\]|\\[c48\\]|\\[idm\\]', '', tweet)\n",
        "\n",
        "  # emoji\n",
        "  tweet=replace_emoji_with_ascii(tweet,emoji_data)\n",
        "  tweet=tweet.replace(\":\",' ').replace('_','mask').replace('-','rus').strip()\n",
        "  tweet=re.sub(' +', ' ', tweet)\n",
        "\n",
        "  # tokenisasi\n",
        "  tokens = tweet.split()\n",
        "\n",
        "  tweet_tokens = []\n",
        "  for ele in tokens:\n",
        "    ele_kamus = kamus_singkatan.get(ele, ele)\n",
        "    ele_slang = slang_mapping.get(ele_kamus, ele_kamus)\n",
        "    tweet_tokens.append(ele_slang)\n",
        "\n",
        "  tweet = ' '.join(tweet_tokens)\n",
        "  tweet = re.sub('[\\s]+', ' ', tweet)\n",
        "    #Replace #word with word\n",
        "  tweet = re.sub(r'#([^\\s]+)', '', tweet)\n",
        "  tweet=re.sub(r'\\d+', '', tweet)\n",
        "  tweet = tweet.strip('\\'\"')\n",
        "  tweet = tweet.lstrip('\\'\"')\n",
        "\n",
        "  tweet = \"\".join([char for char in tweet if char not in string.punctuation])\n",
        "\n",
        "  doc = nlp(tweet)\n",
        "\n",
        "  tokens = [token.text for token in doc]\n",
        "      # Hapus stopwords dari tokens\n",
        "  filtered_tokens = [token for token in tokens if token.lower() not in stopwords]\n",
        "  tweet = ' '.join(filtered_tokens)\n",
        "\n",
        "  tweet=stemmer.stem(tweet)\n",
        "  tweet=tweet.replace('mask',' ').replace('rus','-')\n",
        "\n",
        "  return tweet"
      ]
    },
    {
      "cell_type": "code",
      "execution_count": 27,
      "metadata": {
        "colab": {
          "base_uri": "https://localhost:8080/"
        },
        "id": "8tQAIMjZJNnP",
        "outputId": "d2c232dd-2ed7-4580-e074-f19c2a30029a"
      },
      "outputs": [
        {
          "name": "stdout",
          "output_type": "stream",
          "text": [
            "hai sayang wajah gembira berurai air mata\n"
          ]
        }
      ],
      "source": [
        "print(process_tweet('hai sayangnya adalah 😂'))"
      ]
    },
    {
      "cell_type": "code",
      "execution_count": 28,
      "metadata": {
        "colab": {
          "base_uri": "https://localhost:8080/"
        },
        "id": "jIJ3Ngn6Ip-y",
        "outputId": "ca386777-c271-45fd-fd2b-fc2ef166c137"
      },
      "outputs": [
        {
          "name": "stdout",
          "output_type": "stream",
          "text": [
            "soal jalan jatibarupolisi gertak gubernur emangny polisi ikut pmbhasan jangan politik atur wilayahhak gubernur soal tn abang soal turun temurunpelikperlu sabar\n"
          ]
        }
      ],
      "source": [
        "print(process_tweet(str(df_emosi['tweet'][0])))"
      ]
    },
    {
      "cell_type": "code",
      "execution_count": 29,
      "metadata": {
        "colab": {
          "base_uri": "https://localhost:8080/",
          "height": 206
        },
        "id": "qWWlAFV6omNo",
        "outputId": "5fe165f1-0e67-44ab-85e1-83fd1e8df4b3"
      },
      "outputs": [
        {
          "data": {
            "text/html": [
              "<div>\n",
              "<style scoped>\n",
              "    .dataframe tbody tr th:only-of-type {\n",
              "        vertical-align: middle;\n",
              "    }\n",
              "\n",
              "    .dataframe tbody tr th {\n",
              "        vertical-align: top;\n",
              "    }\n",
              "\n",
              "    .dataframe thead th {\n",
              "        text-align: right;\n",
              "    }\n",
              "</style>\n",
              "<table border=\"1\" class=\"dataframe\">\n",
              "  <thead>\n",
              "    <tr style=\"text-align: right;\">\n",
              "      <th></th>\n",
              "      <th>label</th>\n",
              "      <th>tweet</th>\n",
              "      <th>masked_word_count</th>\n",
              "      <th>pattern_counts</th>\n",
              "    </tr>\n",
              "  </thead>\n",
              "  <tbody>\n",
              "    <tr>\n",
              "      <th>0</th>\n",
              "      <td>anger</td>\n",
              "      <td>Soal jln Jatibaru,polisi tdk bs GERTAK gubernu...</td>\n",
              "      <td>2</td>\n",
              "      <td>{'USERNAME': 2, 'URL': 1}</td>\n",
              "    </tr>\n",
              "    <tr>\n",
              "      <th>1</th>\n",
              "      <td>anger</td>\n",
              "      <td>Sesama cewe lho (kayaknya), harusnya bisa lebi...</td>\n",
              "      <td>0</td>\n",
              "      <td>{}</td>\n",
              "    </tr>\n",
              "    <tr>\n",
              "      <th>2</th>\n",
              "      <td>happy</td>\n",
              "      <td>Kepingin gudeg mbarek Bu hj. Amad Foto dari go...</td>\n",
              "      <td>0</td>\n",
              "      <td>{}</td>\n",
              "    </tr>\n",
              "    <tr>\n",
              "      <th>3</th>\n",
              "      <td>anger</td>\n",
              "      <td>Jln Jatibaru,bagian dari wilayah Tn Abang.Peng...</td>\n",
              "      <td>0</td>\n",
              "      <td>{'URL': 1}</td>\n",
              "    </tr>\n",
              "    <tr>\n",
              "      <th>4</th>\n",
              "      <td>happy</td>\n",
              "      <td>Sharing pengalaman aja, kemarin jam 18.00 bata...</td>\n",
              "      <td>1</td>\n",
              "      <td>{'USERNAME': 1}</td>\n",
              "    </tr>\n",
              "  </tbody>\n",
              "</table>\n",
              "</div>"
            ],
            "text/plain": [
              "   label                                              tweet  \\\n",
              "0  anger  Soal jln Jatibaru,polisi tdk bs GERTAK gubernu...   \n",
              "1  anger  Sesama cewe lho (kayaknya), harusnya bisa lebi...   \n",
              "2  happy  Kepingin gudeg mbarek Bu hj. Amad Foto dari go...   \n",
              "3  anger  Jln Jatibaru,bagian dari wilayah Tn Abang.Peng...   \n",
              "4  happy  Sharing pengalaman aja, kemarin jam 18.00 bata...   \n",
              "\n",
              "   masked_word_count             pattern_counts  \n",
              "0                  2  {'USERNAME': 2, 'URL': 1}  \n",
              "1                  0                         {}  \n",
              "2                  0                         {}  \n",
              "3                  0                 {'URL': 1}  \n",
              "4                  1            {'USERNAME': 1}  "
            ]
          },
          "execution_count": 29,
          "metadata": {},
          "output_type": "execute_result"
        }
      ],
      "source": [
        "df_emosi.head(5)"
      ]
    },
    {
      "cell_type": "code",
      "execution_count": 31,
      "metadata": {
        "id": "rXqpk-wRo2TZ"
      },
      "outputs": [],
      "source": [
        "df_emosi['tweet'] = df_emosi['tweet'].apply(lambda x: process_tweet(str(x)))"
      ]
    },
    {
      "cell_type": "code",
      "execution_count": 32,
      "metadata": {
        "id": "Lzg2VV3WrNAX"
      },
      "outputs": [],
      "source": [
        "df_emosi.to_csv(r'src\\cleaned.csv')"
      ]
    },
    {
      "cell_type": "code",
      "execution_count": 33,
      "metadata": {
        "id": "E7CxM3omsCsG"
      },
      "outputs": [
        {
          "data": {
            "text/plain": [
              "0       soal jalan jatibarupolisi gertak gubernur eman...\n",
              "1       sama cewek lho kayak ha- lebih rasai lah sibuk...\n",
              "2       pengin gudeg mbarek bu hj foto google sengaja ...\n",
              "3       jalan jatibarubagian wilayah tn abangpengatura...\n",
              "4       sharing alam aja kemarin jam batalin tiket sta...\n",
              "                              ...                        \n",
              "4396    tahu kamu papa mejam mata tahan gejolak batin ...\n",
              "4397    sulit tetap calon wapresnya jokowi pilpres sal...\n",
              "4398    masa depan enggak jelas lah iya bagaimana mau ...\n",
              "4399    dulu benar mahasiswa teknik ui tembak pacar pa...\n",
              "4400       allah engkau tahu rasa sakit hati sembuh allah\n",
              "Name: tweet, Length: 4401, dtype: object"
            ]
          },
          "execution_count": 33,
          "metadata": {},
          "output_type": "execute_result"
        }
      ],
      "source": [
        "df_emosi['tweet']"
      ]
    }
  ],
  "metadata": {
    "colab": {
      "collapsed_sections": [
        "qKN9IBvcoReY",
        "1ip-ys6uoaY0"
      ],
      "gpuType": "T4",
      "provenance": []
    },
    "kernelspec": {
      "display_name": "Python 3",
      "name": "python3"
    },
    "language_info": {
      "codemirror_mode": {
        "name": "ipython",
        "version": 3
      },
      "file_extension": ".py",
      "mimetype": "text/x-python",
      "name": "python",
      "nbconvert_exporter": "python",
      "pygments_lexer": "ipython3",
      "version": "3.11.7"
    }
  },
  "nbformat": 4,
  "nbformat_minor": 0
}
